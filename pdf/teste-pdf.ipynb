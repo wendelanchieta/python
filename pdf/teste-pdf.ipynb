{
 "cells": [
  {
   "cell_type": "code",
   "execution_count": 2,
   "metadata": {},
   "outputs": [
    {
     "name": "stdout",
     "output_type": "stream",
     "text": [
      "BEM VINDO\n",
      "À\n",
      "SAgUUÍS\n"
     ]
    }
   ],
   "source": [
    "# Importando o módulo Pillow para abrir a imagem no script\n",
    "from PIL import Image \n",
    "\n",
    "# Módulo para a utilização da tecnologia OCR\n",
    "import pytesseract as ocr\n",
    "\n",
    "# Extraindo o texto da imagem\n",
    "print( ocr.image_to_string(Image.open('img/ocr3.png'), lang='por'))"
   ]
  },
  {
   "cell_type": "code",
   "execution_count": 3,
   "metadata": {},
   "outputs": [
    {
     "name": "stdout",
     "output_type": "stream",
     "text": [
      "b'BEM VINDO\\nA\\nSAOLUTS\\n\\x0c'\n"
     ]
    }
   ],
   "source": [
    "# Importando o módulo para a utilização da tecnologia OCR\n",
    "import textract\n",
    "\n",
    "# Extraindo o texto da imagem\n",
    "text = textract.process('img/ocr3.png', encoding='ascii', method='tesseract')\n",
    "print(text)"
   ]
  },
  {
   "cell_type": "code",
   "execution_count": 4,
   "metadata": {},
   "outputs": [
    {
     "name": "stdout",
     "output_type": "stream",
     "text": [
      "BEM VINDO\n",
      "A\n",
      "SÃO Luís\n"
     ]
    }
   ],
   "source": [
    "# Importando os módulos para a utilização da tecnologia OCR\n",
    "import pytesseract as ocr\n",
    "import numpy as np\n",
    "import cv2\n",
    "\n",
    "from PIL import Image\n",
    "\n",
    "try:\n",
    "    # tipando a leitura para os canais de ordem RGB\n",
    "    imagem = Image.open('img/ocr3.png').convert('RGB')\n",
    "    \n",
    "    # convertendo em um array editável de numpy[x, y, CANALS]\n",
    "    npimagem = np.asarray(imagem).astype(np.uint8)\n",
    "    \n",
    "    # diminuição dos ruidos antes da binarização\n",
    "    npimagem[:, :, 0] = 0 # zerando o canal R (RED)\n",
    "    npimagem[:, :, 2] = 0 # zerando o canal B (BLUE)\n",
    "    \n",
    "    # atribuição em escala de cinza\n",
    "    im = cv2.cvtColor(npimagem, cv2.COLOR_RGB2GRAY) \n",
    "    \n",
    "    # aplicação da truncagem binária para a intensidade\n",
    "    # pixels de intensidade de cor abaixo de 127 serão convertidos para 0 (PRETO)\n",
    "    # pixels de intensidade de cor acima de 127 serão convertidos para 255 (BRANCO)\n",
    "    # A atrubição do THRESH_OTSU incrementa uma análise inteligente dos nivels de truncagem\n",
    "    ret, thresh = cv2.threshold(im, 127, 255, cv2.THRESH_BINARY | cv2.THRESH_OTSU) \n",
    "    \n",
    "    # reconvertendo o retorno do threshold em um objeto do tipo PIL.Image\n",
    "    binimagem = Image.fromarray(thresh) \n",
    "    \n",
    "    # chamada ao tesseract OCR por meio de seu wrapper\n",
    "    phrase = ocr.image_to_string(binimagem, lang='por')\n",
    "    \n",
    "except Error:\n",
    "    print('Aconteçeu um erro.')\n",
    "    \n",
    "# impressão do resultado\n",
    "print(phrase)"
   ]
  },
  {
   "cell_type": "code",
   "execution_count": 11,
   "metadata": {},
   "outputs": [
    {
     "name": "stdout",
     "output_type": "stream",
     "text": [
      "Collecting opencv-python\n",
      "\u001b[?25l  Downloading https://files.pythonhosted.org/packages/34/a3/403dbaef909fee9f9f6a8eaff51d44085a14e5bb1a1ff7257117d744986a/opencv_python-4.2.0.32-cp37-cp37m-manylinux1_x86_64.whl (28.2MB)\n",
      "\u001b[K     |████████████████████████████████| 28.2MB 2.7MB/s eta 0:00:01\n",
      "\u001b[?25hRequirement already satisfied: numpy>=1.14.5 in /opt/anaconda3/lib/python3.7/site-packages (from opencv-python) (1.17.2)\n",
      "Installing collected packages: opencv-python\n",
      "Successfully installed opencv-python-4.2.0.32\n",
      "Note: you may need to restart the kernel to use updated packages.\n"
     ]
    }
   ],
   "source": [
    "pip install opencv-python"
   ]
  }
 ],
 "metadata": {
  "kernelspec": {
   "display_name": "Python 3",
   "language": "python",
   "name": "python3"
  },
  "language_info": {
   "codemirror_mode": {
    "name": "ipython",
    "version": 3
   },
   "file_extension": ".py",
   "mimetype": "text/x-python",
   "name": "python",
   "nbconvert_exporter": "python",
   "pygments_lexer": "ipython3",
   "version": "3.7.4"
  }
 },
 "nbformat": 4,
 "nbformat_minor": 4
}

{
 "cells": [
  {
   "cell_type": "code",
   "execution_count": 1,
   "metadata": {},
   "outputs": [],
   "source": [
    "import pymysql\n",
    "import xlsxwriter\n",
    "import logging"
   ]
  },
  {
   "cell_type": "code",
   "execution_count": 2,
   "metadata": {},
   "outputs": [],
   "source": [
    "logger = logging.getLogger(__name__)\n",
    "logging.basicConfig(format='{levelname:.3s}: {message}', style='{', level=logging.INFO)"
   ]
  },
  {
   "cell_type": "code",
   "execution_count": 3,
   "metadata": {},
   "outputs": [],
   "source": [
    "def getDados(sql):\n",
    "    \n",
    "    try:\n",
    "    \n",
    "        logger.info('Conectando no banco de dados')\n",
    "\n",
    "        conexao = pymysql.connect(host='0.0.0.0', user='usuario', passwd='senha', db='bancodedados')\n",
    "        cursor = conexao.cursor()\n",
    "        \n",
    "        logger.info('Conexão realizada com sucesso.')\n",
    "                    \n",
    "        logger.info('Obtendo os registros...')    \n",
    "        cursor.execute(sql)            \n",
    "\n",
    "        header = [row[0] for row in cursor.description]\n",
    "\n",
    "        rows = cursor.fetchall()\n",
    "        logger.info('consulta realizada com sucesso...')\n",
    "        \n",
    "    except pymysql.Error as err:   \n",
    "        print(\"Não foi possivel conectar ao banco de dados: {}\".format(err))\n",
    "    finally:    \n",
    "        logger.info('Fechando a conexão com o banco de dados')\n",
    "        cursor.close()\n",
    "        conexao.close()\n",
    "        \n",
    "    return header, rows"
   ]
  },
  {
   "cell_type": "code",
   "execution_count": 4,
   "metadata": {},
   "outputs": [],
   "source": [
    "def export(sql, nome_arquivo, caminho_arquivo):\n",
    "    \n",
    "    try:\n",
    "        \n",
    "        logger.info('Criando um novo arquivo Excel e adicionano uma planilha')\n",
    "        workbook = xlsxwriter.Workbook(caminho_arquivo + nome_arquivo + '.xlsx')\n",
    "        worksheet = workbook.add_worksheet('NOME-PLANILHA')\n",
    "\n",
    "        logger.info('Criando o estilo das celulas')\n",
    "        header_cell_format = workbook.add_format({'bold': True, 'border': True, 'bg_color': 'yellow'})\n",
    "        body_cell_format = workbook.add_format({'border': True})\n",
    "\n",
    "        logger.info('Obtendo os dados para preenchimento da planilha')\n",
    "        header, rows = getDados(sql)\n",
    "\n",
    "        row_index = 0\n",
    "        column_index = 0\n",
    "\n",
    "        logger.info('Preenchendo a planilha')\n",
    "        for column_name in header:\n",
    "            worksheet.write(row_index, column_index, column_name, header_cell_format)\n",
    "            column_index += 1\n",
    "\n",
    "        row_index += 1\n",
    "        for row in rows:\n",
    "            column_index = 0\n",
    "            for column in row:\n",
    "                worksheet.write(row_index, column_index, column, body_cell_format)\n",
    "                column_index += 1\n",
    "            row_index += 1\n",
    "\n",
    "        logger.info('{} Registros escritos com sucesso em {}'.format(str(row_index),workbook.filename))\n",
    "        \n",
    "    except Exception as err:   \n",
    "        print(\"Não foi possivel conectar ao banco de dados: {}\".format(err))    \n",
    "\n",
    "    finally:\n",
    "        logger.info('Fechando o arquivo')\n",
    "        workbook.close()"
   ]
  },
  {
   "cell_type": "code",
   "execution_count": 5,
   "metadata": {},
   "outputs": [],
   "source": [
    "consulta = \" select campo1, campo2, campo3 from tabela\""
   ]
  },
  {
   "cell_type": "code",
   "execution_count": null,
   "metadata": {},
   "outputs": [],
   "source": [
    "export(consulta,'nome-do-arquivo', 'caminho-para-salvar-arquivo')\n",
    "print(\"Execução finalizada...\")"
   ]
  },
  {
   "cell_type": "code",
   "execution_count": null,
   "metadata": {},
   "outputs": [],
   "source": [
    "df = pd.DataFrame()\n",
    "df.head()\n",
    "try:\n",
    "    logger.info('Lendo os dados da planilha')\n",
    "    df = pd.read_excel('nome-do-arquivo.xlsx') \n",
    "except Exception as err:   \n",
    "    logger.error(\"Não foi ler o arquivo: {}\".format(err))\n",
    "\n",
    "logger.info('Exibindo os {} primeiros dados da planilha'.format(5))\n",
    "df.head()"
   ]
  },
  {
   "cell_type": "code",
   "execution_count": null,
   "metadata": {},
   "outputs": [],
   "source": [
    "df['conteudo'][1]"
   ]
  }
 ],
 "metadata": {
  "kernelspec": {
   "display_name": "Python 3",
   "language": "python",
   "name": "python3"
  },
  "language_info": {
   "codemirror_mode": {
    "name": "ipython",
    "version": 3
   },
   "file_extension": ".py",
   "mimetype": "text/x-python",
   "name": "python",
   "nbconvert_exporter": "python",
   "pygments_lexer": "ipython3",
   "version": "3.7.4"
  }
 },
 "nbformat": 4,
 "nbformat_minor": 2
}

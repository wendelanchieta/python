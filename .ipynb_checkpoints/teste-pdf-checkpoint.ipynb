{
 "cells": [
  {
   "cell_type": "code",
   "execution_count": 6,
   "metadata": {},
   "outputs": [
    {
     "name": "stdout",
     "output_type": "stream",
     "text": [
      "BEM VINDO\n"
     ]
    }
   ],
   "source": [
    "# Importando o módulo Pillow para abrir a imagem no script\n",
    "from PIL import Image \n",
    "\n",
    "# Módulo para a utilização da tecnologia OCR\n",
    "import pytesseract as ocr\n",
    "\n",
    "# Extraindo o texto da imagem\n",
    "print( ocr.image_to_string(Image.open('ocr3.png'), lang='por'))"
   ]
  },
  {
   "cell_type": "code",
   "execution_count": 8,
   "metadata": {},
   "outputs": [
    {
     "name": "stdout",
     "output_type": "stream",
     "text": [
      "b'BEM VINDO\\n\\n    \\n\\x0c'\n"
     ]
    }
   ],
   "source": [
    "# Importando o módulo para a utilização da tecnologia OCR\n",
    "import textract\n",
    "\n",
    "# Extraindo o texto da imagem\n",
    "text = textract.process('ocr3.png', encoding='ascii', method='tesseract')\n",
    "print(text)"
   ]
  },
  {
   "cell_type": "code",
   "execution_count": 13,
   "metadata": {},
   "outputs": [
    {
     "data": {
      "text/plain": [
       "'0'"
      ]
     },
     "execution_count": 13,
     "metadata": {},
     "output_type": "execute_result"
    }
   ],
   "source": [
    "# Importando os módulos para a utilização da tecnologia OCR\n",
    "import pyocr\n",
    "import pyocr.builders\n",
    "from PIL import Image\n",
    "\n",
    "text = 'vazio'\n",
    "try:\n",
    "    # Extraindo o texto da imagem\n",
    "    tools = pyocr.get_available_tools()[0]\n",
    "    text = tools.image_to_string(Image.open('ocr3.png'), builder=pyocr.builders.DigitBuilder())\n",
    "except Error:\n",
    "    print('Aconteçeu um erro.')\n",
    "    \n",
    "text"
   ]
  },
  {
   "cell_type": "code",
   "execution_count": 11,
   "metadata": {},
   "outputs": [
    {
     "name": "stdout",
     "output_type": "stream",
     "text": [
      "Collecting opencv-python\n",
      "\u001b[?25l  Downloading https://files.pythonhosted.org/packages/34/a3/403dbaef909fee9f9f6a8eaff51d44085a14e5bb1a1ff7257117d744986a/opencv_python-4.2.0.32-cp37-cp37m-manylinux1_x86_64.whl (28.2MB)\n",
      "\u001b[K     |████████████████████████████████| 28.2MB 2.7MB/s eta 0:00:01\n",
      "\u001b[?25hRequirement already satisfied: numpy>=1.14.5 in /opt/anaconda3/lib/python3.7/site-packages (from opencv-python) (1.17.2)\n",
      "Installing collected packages: opencv-python\n",
      "Successfully installed opencv-python-4.2.0.32\n",
      "Note: you may need to restart the kernel to use updated packages.\n"
     ]
    }
   ],
   "source": [
    "pip install opencv-python"
   ]
  }
 ],
 "metadata": {
  "kernelspec": {
   "display_name": "Python 3",
   "language": "python",
   "name": "python3"
  },
  "language_info": {
   "codemirror_mode": {
    "name": "ipython",
    "version": 3
   },
   "file_extension": ".py",
   "mimetype": "text/x-python",
   "name": "python",
   "nbconvert_exporter": "python",
   "pygments_lexer": "ipython3",
   "version": "3.7.4"
  }
 },
 "nbformat": 4,
 "nbformat_minor": 4
}

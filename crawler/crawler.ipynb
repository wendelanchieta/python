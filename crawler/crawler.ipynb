{
 "cells": [
  {
   "cell_type": "code",
   "execution_count": null,
   "metadata": {},
   "outputs": [],
   "source": [
    "import logging\n",
    "import urllib3\n",
    "from bs4 import BeautifulSoup\n",
    "from urllib.parse import urljoin "
   ]
  },
  {
   "cell_type": "code",
   "execution_count": null,
   "metadata": {},
   "outputs": [],
   "source": [
    "logger = logging.getLogger(__name__)\n",
    "logging.basicConfig(format='{levelname:.3s}: {message}', style='{', level=logging.DEBUG)"
   ]
  },
  {
   "cell_type": "code",
   "execution_count": null,
   "metadata": {},
   "outputs": [],
   "source": [
    "def getTexto(html):\n",
    "    logger.info('Extraindo o conteúdo do html')\n",
    "    sopa = BeautifulSoup(html, 'lxml')\n",
    "    for tags in sopa(['script', 'stytle', 'link', 'meta', 'head']):\n",
    "        tags.decompose()\n",
    "\n",
    "    conteudo = ' '.join(sopa.stripped_strings)\n",
    "    logger.info('Extração do conteúdo do html finalizada...')\n",
    "    return conteudo"
   ]
  },
  {
   "cell_type": "code",
   "execution_count": null,
   "metadata": {},
   "outputs": [],
   "source": [
    "def crawl(paginas, profundidade):\n",
    "    urllib3.disable_warnings(urllib3.exceptions.InsecureRequestWarning)\n",
    "    for i in range(profundidade):\n",
    "        novas_paginas = set()\n",
    "        for pagina in paginas:\n",
    "            http = urllib3.PoolManager()\n",
    "            try:\n",
    "                logger.info('Carregando a página')\n",
    "                dados_pagina = http.request('GET', pagina)\n",
    "            except Exception as e:\n",
    "                logger.error('Não foi possivel carregar a página {1} : {2}', pagina, e)\n",
    "                continue\n",
    "\n",
    "            sopa = BeautifulSoup(dados_pagina.data, 'lxml')\n",
    "            links = sopa.find_all('a')\n",
    "            contador = 1\n",
    "            for link in links:\n",
    "                #print('{0} - {1}'.format(str(link.contents), str(link.get('href'))))\n",
    "                #print(link.attrs)\n",
    "                #print('\\n')\n",
    "                if('href' in link.attrs):\n",
    "                    url = urljoin(pagina, str(link.get('href')))\n",
    "                    \"\"\"if(url != link.get('href')):\n",
    "                        print(url)\n",
    "                        print(link.get('href'))\"\"\"\n",
    "                    if(url.find(\"'\") != -1):\n",
    "                        continue\n",
    "\n",
    "                    #print(url)\n",
    "                    url = url.split(\"#\")[0]\n",
    "                    #print(url)\n",
    "                    #print('\\n')\n",
    "\n",
    "                    if(url[0:4] == 'http'):\n",
    "                        novas_paginas.add(url)\n",
    "                    contador+=1\n",
    "            paginas = novas_paginas\n",
    "            print(contador)\n",
    "        print('Quantidade de links encontrados:{}'.format(len(paginas)))"
   ]
  },
  {
   "cell_type": "code",
   "execution_count": null,
   "metadata": {
    "scrolled": false
   },
   "outputs": [],
   "source": [
    "#listapaginas = ['https://pt.wikipedia.org/wiki/Linguagem_de_programa%C3%A7%C3%A3o', 'https://www.jusbrasil.com.br/busca?q=valec+step+trt']\n",
    "listapaginas = ['https://pt.wikipedia.org/wiki/Linguagem_de_programa%C3%A7%C3%A3o']\n",
    "crawl(listapaginas, 2)"
   ]
  },
  {
   "cell_type": "code",
   "execution_count": null,
   "metadata": {},
   "outputs": [],
   "source": [
    "listapaginas"
   ]
  }
 ],
 "metadata": {
  "kernelspec": {
   "display_name": "Python 3",
   "language": "python",
   "name": "python3"
  },
  "language_info": {
   "codemirror_mode": {
    "name": "ipython",
    "version": 3
   },
   "file_extension": ".py",
   "mimetype": "text/x-python",
   "name": "python",
   "nbconvert_exporter": "python",
   "pygments_lexer": "ipython3",
   "version": "3.7.4"
  }
 },
 "nbformat": 4,
 "nbformat_minor": 2
}
